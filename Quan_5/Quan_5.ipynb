{
 "cells": [
  {
   "cell_type": "raw",
   "id": "a34c1267",
   "metadata": {
    "papermill": {
     "duration": 0.020324,
     "end_time": "2021-12-15T12:09:23.980049",
     "exception": false,
     "start_time": "2021-12-15T12:09:23.959725",
     "status": "completed"
    },
    "tags": []
   },
   "source": []
  },
  {
   "cell_type": "code",
   "execution_count": 1,
   "id": "177da3c9",
   "metadata": {
    "_cell_guid": "b1076dfc-b9ad-4769-8c92-a6c4dae69d19",
    "_uuid": "8f2839f25d086af736a60e9eeb907d3b93b6e0e5",
    "execution": {
     "iopub.execute_input": "2021-12-15T12:09:24.020907Z",
     "iopub.status.busy": "2021-12-15T12:09:24.019910Z",
     "iopub.status.idle": "2021-12-15T12:09:29.811900Z",
     "shell.execute_reply": "2021-12-15T12:09:29.810836Z",
     "shell.execute_reply.started": "2021-12-15T10:26:50.251933Z"
    },
    "papermill": {
     "duration": 5.817332,
     "end_time": "2021-12-15T12:09:29.812191",
     "exception": false,
     "start_time": "2021-12-15T12:09:23.994859",
     "status": "completed"
    },
    "tags": []
   },
   "outputs": [],
   "source": [
    "import sys\n",
    "from matplotlib import pyplot\n",
    "from keras.datasets import cifar10\n",
    "from keras.utils import np_utils\n",
    "from keras.models import Sequential\n",
    "from keras.layers import Conv2D, MaxPooling2D, BatchNormalization\n",
    "from keras.layers import Dense, Flatten, Dropout\n",
    "from keras.preprocessing.image import ImageDataGenerator\n",
    "from tensorflow.keras.optimizers import SGD"
   ]
  },
  {
   "cell_type": "code",
   "execution_count": 2,
   "id": "90a87496",
   "metadata": {
    "execution": {
     "iopub.execute_input": "2021-12-15T12:09:29.837555Z",
     "iopub.status.busy": "2021-12-15T12:09:29.836555Z",
     "iopub.status.idle": "2021-12-15T12:09:29.839441Z",
     "shell.execute_reply": "2021-12-15T12:09:29.839977Z",
     "shell.execute_reply.started": "2021-12-15T10:26:50.261402Z"
    },
    "papermill": {
     "duration": 0.018306,
     "end_time": "2021-12-15T12:09:29.840139",
     "exception": false,
     "start_time": "2021-12-15T12:09:29.821833",
     "status": "completed"
    },
    "tags": []
   },
   "outputs": [],
   "source": [
    "def load_dataset():\n",
    "    (trainX, trainY), (testX, testY) = cifar10.load_data()\n",
    "\n",
    "    trainY = np_utils.to_categorical(trainY)\n",
    "    testY = np_utils.to_categorical(testY)\n",
    "\n",
    "    return trainX, trainY, testX, testY"
   ]
  },
  {
   "cell_type": "code",
   "execution_count": 3,
   "id": "18e77a91",
   "metadata": {
    "execution": {
     "iopub.execute_input": "2021-12-15T12:09:29.862525Z",
     "iopub.status.busy": "2021-12-15T12:09:29.861523Z",
     "iopub.status.idle": "2021-12-15T12:09:29.864210Z",
     "shell.execute_reply": "2021-12-15T12:09:29.864686Z",
     "shell.execute_reply.started": "2021-12-15T10:26:50.271971Z"
    },
    "papermill": {
     "duration": 0.016479,
     "end_time": "2021-12-15T12:09:29.864859",
     "exception": false,
     "start_time": "2021-12-15T12:09:29.848380",
     "status": "completed"
    },
    "tags": []
   },
   "outputs": [],
   "source": [
    "def prep_pixels(train, test):\n",
    "    train_norm = train.astype('float32')\n",
    "    test_norm = test.astype('float32')\n",
    "\n",
    "    # normalize to range 0-1\n",
    "    train_norm = train_norm / 255.0\n",
    "    test_norm = test_norm / 255.0\n",
    "\n",
    "    return train_norm, test_norm"
   ]
  },
  {
   "cell_type": "code",
   "execution_count": 4,
   "id": "9b94abb1",
   "metadata": {
    "execution": {
     "iopub.execute_input": "2021-12-15T12:09:29.885432Z",
     "iopub.status.busy": "2021-12-15T12:09:29.884339Z",
     "iopub.status.idle": "2021-12-15T12:09:29.897266Z",
     "shell.execute_reply": "2021-12-15T12:09:29.896701Z",
     "shell.execute_reply.started": "2021-12-15T10:26:50.282555Z"
    },
    "papermill": {
     "duration": 0.024119,
     "end_time": "2021-12-15T12:09:29.897413",
     "exception": false,
     "start_time": "2021-12-15T12:09:29.873294",
     "status": "completed"
    },
    "tags": []
   },
   "outputs": [],
   "source": [
    "def define_model():\n",
    "    \n",
    "    model = Sequential()\n",
    "    model.add(Conv2D(32, (3, 3), activation='relu', kernel_initializer='he_uniform', padding='same', input_shape=(32, 32, 3)))\n",
    "    model.add(Conv2D(32, (3, 3), activation='relu', kernel_initializer='he_uniform', padding='same'))\n",
    "    model.add(MaxPooling2D((2, 2)))\n",
    "    model.add(Dropout(0.2))\n",
    "\n",
    "    model.add(Conv2D(64, (3, 3), activation='relu', kernel_initializer='he_uniform', padding='same'))\n",
    "    model.add(Conv2D(64, (3, 3), activation='relu', kernel_initializer='he_uniform', padding='same'))\n",
    "    model.add(MaxPooling2D((2, 2)))\n",
    "    model.add(Dropout(0.3))\n",
    "\n",
    "    model.add(Conv2D(128, (3, 3), activation='relu', kernel_initializer='he_uniform', padding='same'))\n",
    "    model.add(Conv2D(128, (3, 3), activation='relu', kernel_initializer='he_uniform', padding='same'))\n",
    "    model.add(MaxPooling2D((2, 2)))\n",
    "    model.add(Dropout(0.4))\n",
    "\n",
    "    model.add(Flatten())\n",
    "    model.add(Dense(128, activation='relu', kernel_initializer='he_uniform'))\n",
    "    model.add(Dropout(0.5))\n",
    "\n",
    "    model.add(Dense(10, activation='softmax'))\n",
    "    # compile model\n",
    "    opt = SGD(lr=0.001, momentum=0.9)\n",
    "    model.compile(optimizer=opt, loss='categorical_crossentropy', metrics=['accuracy'])\n",
    "    return model"
   ]
  },
  {
   "cell_type": "code",
   "execution_count": 5,
   "id": "2949e0cc",
   "metadata": {
    "execution": {
     "iopub.execute_input": "2021-12-15T12:09:29.921801Z",
     "iopub.status.busy": "2021-12-15T12:09:29.921116Z",
     "iopub.status.idle": "2021-12-15T12:09:29.924727Z",
     "shell.execute_reply": "2021-12-15T12:09:29.924206Z",
     "shell.execute_reply.started": "2021-12-15T10:26:50.299456Z"
    },
    "papermill": {
     "duration": 0.019027,
     "end_time": "2021-12-15T12:09:29.924878",
     "exception": false,
     "start_time": "2021-12-15T12:09:29.905851",
     "status": "completed"
    },
    "tags": []
   },
   "outputs": [],
   "source": [
    "def summarize_diagnostics(history):\n",
    "    # plot loss\n",
    "    pyplot.subplot(211)\n",
    "    pyplot.title('Cross Entropy Loss')\n",
    "    pyplot.plot(history.history['loss'], color='blue', label='train')\n",
    "    pyplot.plot(history.history['val_loss'], color='orange', label='test')\n",
    "\n",
    "    # plot accuracy\n",
    "    pyplot.subplot(212)\n",
    "    pyplot.title('Classification Accuracy')\n",
    "    pyplot.plot(history.history['accuracy'], color='blue', label='train')\n",
    "    pyplot.plot(history.history['val_accuracy'], color='orange', label='test')\n",
    "\n",
    "    # save plot to file\n",
    "    filename = sys.argv[0].split('/')[-1]\n",
    "    pyplot.savefig(filename + '_plot.png')\n",
    "    pyplot.close()"
   ]
  },
  {
   "cell_type": "code",
   "execution_count": 6,
   "id": "81777982",
   "metadata": {
    "execution": {
     "iopub.execute_input": "2021-12-15T12:09:29.950232Z",
     "iopub.status.busy": "2021-12-15T12:09:29.949055Z",
     "iopub.status.idle": "2021-12-15T12:09:29.952433Z",
     "shell.execute_reply": "2021-12-15T12:09:29.951821Z",
     "shell.execute_reply.started": "2021-12-15T10:26:50.311949Z"
    },
    "papermill": {
     "duration": 0.018819,
     "end_time": "2021-12-15T12:09:29.952565",
     "exception": false,
     "start_time": "2021-12-15T12:09:29.933746",
     "status": "completed"
    },
    "tags": []
   },
   "outputs": [],
   "source": [
    "def run_test_harness():\n",
    "    # load dataset\n",
    "    trainX, trainY, testX, testY = load_dataset()\n",
    "    # prepare pixel data\n",
    "    trainX, testX = prep_pixels(trainX, testX)\n",
    "    # define model\n",
    "    model = define_model()\n",
    "    # create data generator\n",
    "    datagen = ImageDataGenerator(width_shift_range=0.1, height_shift_range=0.1, horizontal_flip=True)\n",
    "    # prepare iterator\n",
    "    it_train = datagen.flow(trainX, trainY, batch_size=64)\n",
    "    # fit model\n",
    "    steps = int(trainX.shape[0] / 64)\n",
    "    history = model.fit_generator(it_train, steps_per_epoch=steps, epochs=100, validation_data=(testX, testY), verbose=1)\n",
    "    # evaluate model\n",
    "    _, acc = model.evaluate(testX, testY, verbose=1)\n",
    "    print('> %.3f' % (acc * 100.0))\n",
    "    # learning curves\n",
    "    summarize_diagnostics(history)\n",
    "    model.save('./Quan_5_model.h5')"
   ]
  },
  {
   "cell_type": "markdown",
   "id": "907e11e0",
   "metadata": {
    "papermill": {
     "duration": 0.007936,
     "end_time": "2021-12-15T12:09:29.968949",
     "exception": false,
     "start_time": "2021-12-15T12:09:29.961013",
     "status": "completed"
    },
    "tags": []
   },
   "source": []
  },
  {
   "cell_type": "code",
   "execution_count": 7,
   "id": "e6b6b3b3",
   "metadata": {
    "execution": {
     "iopub.execute_input": "2021-12-15T12:09:29.992282Z",
     "iopub.status.busy": "2021-12-15T12:09:29.991132Z",
     "iopub.status.idle": "2021-12-15T13:15:39.999658Z",
     "shell.execute_reply": "2021-12-15T13:15:39.998979Z",
     "shell.execute_reply.started": "2021-12-15T10:26:50.324999Z"
    },
    "papermill": {
     "duration": 3970.022483,
     "end_time": "2021-12-15T13:15:39.999802",
     "exception": false,
     "start_time": "2021-12-15T12:09:29.977319",
     "status": "completed"
    },
    "tags": []
   },
   "outputs": [
    {
     "name": "stdout",
     "output_type": "stream",
     "text": [
      "Downloading data from https://www.cs.toronto.edu/~kriz/cifar-10-python.tar.gz\n",
      "170500096/170498071 [==============================] - 6s 0us/step\n",
      "170508288/170498071 [==============================] - 6s 0us/step\n"
     ]
    },
    {
     "name": "stderr",
     "output_type": "stream",
     "text": [
      "2021-12-15 12:09:39.195072: I tensorflow/stream_executor/cuda/cuda_gpu_executor.cc:937] successful NUMA node read from SysFS had negative value (-1), but there must be at least one NUMA node, so returning NUMA node zero\n",
      "2021-12-15 12:09:39.297030: I tensorflow/stream_executor/cuda/cuda_gpu_executor.cc:937] successful NUMA node read from SysFS had negative value (-1), but there must be at least one NUMA node, so returning NUMA node zero\n",
      "2021-12-15 12:09:39.298420: I tensorflow/stream_executor/cuda/cuda_gpu_executor.cc:937] successful NUMA node read from SysFS had negative value (-1), but there must be at least one NUMA node, so returning NUMA node zero\n",
      "2021-12-15 12:09:39.300576: I tensorflow/core/platform/cpu_feature_guard.cc:142] This TensorFlow binary is optimized with oneAPI Deep Neural Network Library (oneDNN) to use the following CPU instructions in performance-critical operations:  AVX2 FMA\n",
      "To enable them in other operations, rebuild TensorFlow with the appropriate compiler flags.\n",
      "2021-12-15 12:09:39.301737: I tensorflow/stream_executor/cuda/cuda_gpu_executor.cc:937] successful NUMA node read from SysFS had negative value (-1), but there must be at least one NUMA node, so returning NUMA node zero\n",
      "2021-12-15 12:09:39.302791: I tensorflow/stream_executor/cuda/cuda_gpu_executor.cc:937] successful NUMA node read from SysFS had negative value (-1), but there must be at least one NUMA node, so returning NUMA node zero\n",
      "2021-12-15 12:09:39.303812: I tensorflow/stream_executor/cuda/cuda_gpu_executor.cc:937] successful NUMA node read from SysFS had negative value (-1), but there must be at least one NUMA node, so returning NUMA node zero\n",
      "2021-12-15 12:09:41.794942: I tensorflow/stream_executor/cuda/cuda_gpu_executor.cc:937] successful NUMA node read from SysFS had negative value (-1), but there must be at least one NUMA node, so returning NUMA node zero\n",
      "2021-12-15 12:09:41.796202: I tensorflow/stream_executor/cuda/cuda_gpu_executor.cc:937] successful NUMA node read from SysFS had negative value (-1), but there must be at least one NUMA node, so returning NUMA node zero\n",
      "2021-12-15 12:09:41.797286: I tensorflow/stream_executor/cuda/cuda_gpu_executor.cc:937] successful NUMA node read from SysFS had negative value (-1), but there must be at least one NUMA node, so returning NUMA node zero\n",
      "2021-12-15 12:09:41.798314: I tensorflow/core/common_runtime/gpu/gpu_device.cc:1510] Created device /job:localhost/replica:0/task:0/device:GPU:0 with 15403 MB memory:  -> device: 0, name: Tesla P100-PCIE-16GB, pci bus id: 0000:00:04.0, compute capability: 6.0\n",
      "/opt/conda/lib/python3.7/site-packages/keras/optimizer_v2/optimizer_v2.py:356: UserWarning: The `lr` argument is deprecated, use `learning_rate` instead.\n",
      "  \"The `lr` argument is deprecated, use `learning_rate` instead.\")\n",
      "/opt/conda/lib/python3.7/site-packages/keras/engine/training.py:1972: UserWarning: `Model.fit_generator` is deprecated and will be removed in a future version. Please use `Model.fit`, which supports generators.\n",
      "  warnings.warn('`Model.fit_generator` is deprecated and '\n",
      "2021-12-15 12:09:42.486807: I tensorflow/compiler/mlir/mlir_graph_optimization_pass.cc:185] None of the MLIR Optimization Passes are enabled (registered 2)\n"
     ]
    },
    {
     "name": "stdout",
     "output_type": "stream",
     "text": [
      "Epoch 1/100\n"
     ]
    },
    {
     "name": "stderr",
     "output_type": "stream",
     "text": [
      "2021-12-15 12:09:44.178897: I tensorflow/stream_executor/cuda/cuda_dnn.cc:369] Loaded cuDNN version 8005\n"
     ]
    },
    {
     "name": "stdout",
     "output_type": "stream",
     "text": [
      "781/781 [==============================] - 40s 42ms/step - loss: 2.2438 - accuracy: 0.1479 - val_loss: 2.0501 - val_accuracy: 0.2514\n",
      "Epoch 2/100\n",
      "781/781 [==============================] - 32s 42ms/step - loss: 1.9901 - accuracy: 0.2490 - val_loss: 1.7724 - val_accuracy: 0.3526\n",
      "Epoch 3/100\n",
      "781/781 [==============================] - 32s 41ms/step - loss: 1.8253 - accuracy: 0.3109 - val_loss: 1.6292 - val_accuracy: 0.4041\n",
      "Epoch 4/100\n",
      "781/781 [==============================] - 33s 42ms/step - loss: 1.7360 - accuracy: 0.3475 - val_loss: 1.5488 - val_accuracy: 0.4306\n",
      "Epoch 5/100\n",
      "781/781 [==============================] - 33s 42ms/step - loss: 1.6728 - accuracy: 0.3771 - val_loss: 1.5447 - val_accuracy: 0.4337\n",
      "Epoch 6/100\n",
      "781/781 [==============================] - 33s 42ms/step - loss: 1.6174 - accuracy: 0.4005 - val_loss: 1.4523 - val_accuracy: 0.4702\n",
      "Epoch 7/100\n",
      "781/781 [==============================] - 33s 42ms/step - loss: 1.5648 - accuracy: 0.4242 - val_loss: 1.3906 - val_accuracy: 0.4918\n",
      "Epoch 8/100\n",
      "781/781 [==============================] - 34s 43ms/step - loss: 1.5252 - accuracy: 0.4421 - val_loss: 1.3628 - val_accuracy: 0.4946\n",
      "Epoch 9/100\n",
      "781/781 [==============================] - 34s 44ms/step - loss: 1.4835 - accuracy: 0.4572 - val_loss: 1.3612 - val_accuracy: 0.4965\n",
      "Epoch 10/100\n",
      "781/781 [==============================] - 33s 43ms/step - loss: 1.4479 - accuracy: 0.4711 - val_loss: 1.3612 - val_accuracy: 0.4898\n",
      "Epoch 11/100\n",
      "781/781 [==============================] - 33s 43ms/step - loss: 1.4198 - accuracy: 0.4840 - val_loss: 1.2577 - val_accuracy: 0.5421\n",
      "Epoch 12/100\n",
      "781/781 [==============================] - 34s 43ms/step - loss: 1.3887 - accuracy: 0.5003 - val_loss: 1.2612 - val_accuracy: 0.5365\n",
      "Epoch 13/100\n",
      "781/781 [==============================] - 34s 43ms/step - loss: 1.3632 - accuracy: 0.5073 - val_loss: 1.2808 - val_accuracy: 0.5268\n",
      "Epoch 14/100\n",
      "781/781 [==============================] - 33s 43ms/step - loss: 1.3399 - accuracy: 0.5162 - val_loss: 1.2267 - val_accuracy: 0.5523\n",
      "Epoch 15/100\n",
      "781/781 [==============================] - 34s 43ms/step - loss: 1.3122 - accuracy: 0.5261 - val_loss: 1.2082 - val_accuracy: 0.5587\n",
      "Epoch 16/100\n",
      "781/781 [==============================] - 34s 44ms/step - loss: 1.2858 - accuracy: 0.5379 - val_loss: 1.1124 - val_accuracy: 0.6040\n",
      "Epoch 17/100\n",
      "781/781 [==============================] - 35s 45ms/step - loss: 1.2607 - accuracy: 0.5464 - val_loss: 1.1145 - val_accuracy: 0.5956\n",
      "Epoch 18/100\n",
      "781/781 [==============================] - 34s 43ms/step - loss: 1.2379 - accuracy: 0.5565 - val_loss: 1.0885 - val_accuracy: 0.6082\n",
      "Epoch 19/100\n",
      "781/781 [==============================] - 35s 44ms/step - loss: 1.2234 - accuracy: 0.5598 - val_loss: 1.0866 - val_accuracy: 0.6120\n",
      "Epoch 20/100\n",
      "781/781 [==============================] - 35s 45ms/step - loss: 1.1963 - accuracy: 0.5721 - val_loss: 1.0941 - val_accuracy: 0.6040\n",
      "Epoch 21/100\n",
      "781/781 [==============================] - 35s 45ms/step - loss: 1.1813 - accuracy: 0.5765 - val_loss: 1.0358 - val_accuracy: 0.6261\n",
      "Epoch 22/100\n",
      "781/781 [==============================] - 35s 45ms/step - loss: 1.1591 - accuracy: 0.5860 - val_loss: 1.0548 - val_accuracy: 0.6178\n",
      "Epoch 23/100\n",
      "781/781 [==============================] - 35s 45ms/step - loss: 1.1451 - accuracy: 0.5926 - val_loss: 1.0101 - val_accuracy: 0.6361\n",
      "Epoch 24/100\n",
      "781/781 [==============================] - 32s 41ms/step - loss: 1.1171 - accuracy: 0.6022 - val_loss: 1.0155 - val_accuracy: 0.6343\n",
      "Epoch 25/100\n",
      "781/781 [==============================] - 36s 46ms/step - loss: 1.1083 - accuracy: 0.6077 - val_loss: 0.9457 - val_accuracy: 0.6606\n",
      "Epoch 26/100\n",
      "781/781 [==============================] - 32s 40ms/step - loss: 1.0928 - accuracy: 0.6098 - val_loss: 0.9243 - val_accuracy: 0.6692\n",
      "Epoch 27/100\n",
      "781/781 [==============================] - 37s 47ms/step - loss: 1.0732 - accuracy: 0.6178 - val_loss: 0.9495 - val_accuracy: 0.6679\n",
      "Epoch 28/100\n",
      "781/781 [==============================] - 35s 45ms/step - loss: 1.0566 - accuracy: 0.6261 - val_loss: 1.0268 - val_accuracy: 0.6317\n",
      "Epoch 29/100\n",
      "781/781 [==============================] - 33s 42ms/step - loss: 1.0464 - accuracy: 0.6280 - val_loss: 0.9757 - val_accuracy: 0.6511\n",
      "Epoch 30/100\n",
      "781/781 [==============================] - 35s 45ms/step - loss: 1.0322 - accuracy: 0.6354 - val_loss: 0.9126 - val_accuracy: 0.6770\n",
      "Epoch 31/100\n",
      "781/781 [==============================] - 32s 41ms/step - loss: 1.0169 - accuracy: 0.6402 - val_loss: 0.8917 - val_accuracy: 0.6904\n",
      "Epoch 32/100\n",
      "781/781 [==============================] - 37s 47ms/step - loss: 1.0080 - accuracy: 0.6454 - val_loss: 0.8554 - val_accuracy: 0.6954\n",
      "Epoch 33/100\n",
      "781/781 [==============================] - 32s 41ms/step - loss: 0.9923 - accuracy: 0.6497 - val_loss: 0.9282 - val_accuracy: 0.6683\n",
      "Epoch 34/100\n",
      "781/781 [==============================] - 38s 49ms/step - loss: 0.9826 - accuracy: 0.6547 - val_loss: 0.8293 - val_accuracy: 0.7039\n",
      "Epoch 35/100\n",
      "781/781 [==============================] - 32s 41ms/step - loss: 0.9730 - accuracy: 0.6582 - val_loss: 0.9195 - val_accuracy: 0.6744\n",
      "Epoch 36/100\n",
      "781/781 [==============================] - 37s 48ms/step - loss: 0.9583 - accuracy: 0.6646 - val_loss: 0.8354 - val_accuracy: 0.7016\n",
      "Epoch 37/100\n",
      "781/781 [==============================] - 32s 41ms/step - loss: 0.9526 - accuracy: 0.6651 - val_loss: 0.8104 - val_accuracy: 0.7142\n",
      "Epoch 38/100\n",
      "781/781 [==============================] - 38s 49ms/step - loss: 0.9407 - accuracy: 0.6702 - val_loss: 0.8327 - val_accuracy: 0.7028\n",
      "Epoch 39/100\n",
      "781/781 [==============================] - 32s 42ms/step - loss: 0.9287 - accuracy: 0.6721 - val_loss: 0.8931 - val_accuracy: 0.6860\n",
      "Epoch 40/100\n",
      "781/781 [==============================] - 37s 48ms/step - loss: 0.9244 - accuracy: 0.6751 - val_loss: 0.7863 - val_accuracy: 0.7219\n",
      "Epoch 41/100\n",
      "781/781 [==============================] - 32s 41ms/step - loss: 0.9123 - accuracy: 0.6811 - val_loss: 0.8112 - val_accuracy: 0.7132\n",
      "Epoch 42/100\n",
      "781/781 [==============================] - 32s 41ms/step - loss: 0.9066 - accuracy: 0.6800 - val_loss: 0.7792 - val_accuracy: 0.7235\n",
      "Epoch 43/100\n",
      "781/781 [==============================] - 39s 50ms/step - loss: 0.8997 - accuracy: 0.6860 - val_loss: 0.7623 - val_accuracy: 0.7335\n",
      "Epoch 44/100\n",
      "781/781 [==============================] - 32s 41ms/step - loss: 0.8929 - accuracy: 0.6881 - val_loss: 0.8279 - val_accuracy: 0.7061\n",
      "Epoch 45/100\n",
      "781/781 [==============================] - 32s 41ms/step - loss: 0.8809 - accuracy: 0.6924 - val_loss: 0.7884 - val_accuracy: 0.7186\n",
      "Epoch 46/100\n",
      "781/781 [==============================] - 33s 42ms/step - loss: 0.8708 - accuracy: 0.6942 - val_loss: 0.7663 - val_accuracy: 0.7323\n",
      "Epoch 47/100\n",
      "781/781 [==============================] - 39s 50ms/step - loss: 0.8650 - accuracy: 0.6979 - val_loss: 0.7582 - val_accuracy: 0.7329\n",
      "Epoch 48/100\n",
      "781/781 [==============================] - 32s 41ms/step - loss: 0.8572 - accuracy: 0.6986 - val_loss: 0.7589 - val_accuracy: 0.7305\n",
      "Epoch 49/100\n",
      "781/781 [==============================] - 32s 40ms/step - loss: 0.8595 - accuracy: 0.7005 - val_loss: 0.7209 - val_accuracy: 0.7501\n",
      "Epoch 50/100\n",
      "781/781 [==============================] - 36s 46ms/step - loss: 0.8445 - accuracy: 0.7062 - val_loss: 0.7821 - val_accuracy: 0.7273\n",
      "Epoch 51/100\n",
      "781/781 [==============================] - 32s 42ms/step - loss: 0.8361 - accuracy: 0.7079 - val_loss: 0.7349 - val_accuracy: 0.7433\n",
      "Epoch 52/100\n",
      "781/781 [==============================] - 32s 41ms/step - loss: 0.8315 - accuracy: 0.7108 - val_loss: 0.7250 - val_accuracy: 0.7449\n",
      "Epoch 53/100\n",
      "781/781 [==============================] - 32s 41ms/step - loss: 0.8292 - accuracy: 0.7110 - val_loss: 0.7370 - val_accuracy: 0.7456\n",
      "Epoch 54/100\n",
      "781/781 [==============================] - 40s 51ms/step - loss: 0.8211 - accuracy: 0.7133 - val_loss: 0.7093 - val_accuracy: 0.7520\n",
      "Epoch 55/100\n",
      "781/781 [==============================] - 32s 41ms/step - loss: 0.8188 - accuracy: 0.7147 - val_loss: 0.7095 - val_accuracy: 0.7511\n",
      "Epoch 56/100\n",
      "781/781 [==============================] - 32s 41ms/step - loss: 0.8178 - accuracy: 0.7150 - val_loss: 0.7136 - val_accuracy: 0.7485\n",
      "Epoch 57/100\n",
      "781/781 [==============================] - 32s 42ms/step - loss: 0.8065 - accuracy: 0.7184 - val_loss: 0.6762 - val_accuracy: 0.7671\n",
      "Epoch 58/100\n",
      "781/781 [==============================] - 41s 52ms/step - loss: 0.7987 - accuracy: 0.7221 - val_loss: 0.7168 - val_accuracy: 0.7525\n",
      "Epoch 59/100\n",
      "781/781 [==============================] - 33s 42ms/step - loss: 0.7947 - accuracy: 0.7220 - val_loss: 0.7260 - val_accuracy: 0.7475\n",
      "Epoch 60/100\n",
      "781/781 [==============================] - 32s 41ms/step - loss: 0.7930 - accuracy: 0.7236 - val_loss: 0.7233 - val_accuracy: 0.7472\n",
      "Epoch 61/100\n",
      "781/781 [==============================] - 37s 47ms/step - loss: 0.7855 - accuracy: 0.7264 - val_loss: 0.6557 - val_accuracy: 0.7716\n",
      "Epoch 62/100\n",
      "781/781 [==============================] - 36s 46ms/step - loss: 0.7738 - accuracy: 0.7289 - val_loss: 0.7071 - val_accuracy: 0.7551\n",
      "Epoch 63/100\n",
      "781/781 [==============================] - 32s 41ms/step - loss: 0.7710 - accuracy: 0.7326 - val_loss: 0.7813 - val_accuracy: 0.7272\n",
      "Epoch 64/100\n",
      "781/781 [==============================] - 32s 41ms/step - loss: 0.7757 - accuracy: 0.7322 - val_loss: 0.7294 - val_accuracy: 0.7494\n",
      "Epoch 65/100\n",
      "781/781 [==============================] - 42s 53ms/step - loss: 0.7647 - accuracy: 0.7353 - val_loss: 0.6411 - val_accuracy: 0.7786\n",
      "Epoch 66/100\n",
      "781/781 [==============================] - 32s 42ms/step - loss: 0.7640 - accuracy: 0.7349 - val_loss: 0.6949 - val_accuracy: 0.7567\n",
      "Epoch 67/100\n",
      "781/781 [==============================] - 32s 41ms/step - loss: 0.7563 - accuracy: 0.7371 - val_loss: 0.6691 - val_accuracy: 0.7690\n",
      "Epoch 68/100\n",
      "781/781 [==============================] - 42s 54ms/step - loss: 0.7557 - accuracy: 0.7392 - val_loss: 0.6645 - val_accuracy: 0.7737\n",
      "Epoch 69/100\n",
      "781/781 [==============================] - 32s 41ms/step - loss: 0.7556 - accuracy: 0.7396 - val_loss: 0.6743 - val_accuracy: 0.7665\n",
      "Epoch 70/100\n",
      "781/781 [==============================] - 32s 41ms/step - loss: 0.7481 - accuracy: 0.7420 - val_loss: 0.7064 - val_accuracy: 0.7554\n",
      "Epoch 71/100\n",
      "781/781 [==============================] - 35s 45ms/step - loss: 0.7414 - accuracy: 0.7427 - val_loss: 0.6656 - val_accuracy: 0.7711\n",
      "Epoch 72/100\n",
      "781/781 [==============================] - 40s 52ms/step - loss: 0.7317 - accuracy: 0.7463 - val_loss: 0.6447 - val_accuracy: 0.7770\n",
      "Epoch 73/100\n",
      "781/781 [==============================] - 32s 41ms/step - loss: 0.7331 - accuracy: 0.7463 - val_loss: 0.6756 - val_accuracy: 0.7665\n",
      "Epoch 74/100\n",
      "781/781 [==============================] - 33s 42ms/step - loss: 0.7283 - accuracy: 0.7490 - val_loss: 0.6497 - val_accuracy: 0.7745\n",
      "Epoch 75/100\n",
      "781/781 [==============================] - 39s 50ms/step - loss: 0.7221 - accuracy: 0.7489 - val_loss: 0.6564 - val_accuracy: 0.7770\n",
      "Epoch 76/100\n",
      "781/781 [==============================] - 37s 47ms/step - loss: 0.7231 - accuracy: 0.7507 - val_loss: 0.6200 - val_accuracy: 0.7879\n",
      "Epoch 77/100\n",
      "781/781 [==============================] - 32s 41ms/step - loss: 0.7194 - accuracy: 0.7509 - val_loss: 0.6352 - val_accuracy: 0.7804\n",
      "Epoch 78/100\n",
      "781/781 [==============================] - 32s 41ms/step - loss: 0.7090 - accuracy: 0.7555 - val_loss: 0.6051 - val_accuracy: 0.7909\n",
      "Epoch 79/100\n",
      "781/781 [==============================] - 44s 56ms/step - loss: 0.7099 - accuracy: 0.7548 - val_loss: 0.6413 - val_accuracy: 0.7804\n",
      "Epoch 80/100\n",
      "781/781 [==============================] - 32s 41ms/step - loss: 0.7109 - accuracy: 0.7551 - val_loss: 0.6161 - val_accuracy: 0.7869\n",
      "Epoch 81/100\n",
      "781/781 [==============================] - 32s 41ms/step - loss: 0.7066 - accuracy: 0.7567 - val_loss: 0.6454 - val_accuracy: 0.7811\n",
      "Epoch 82/100\n",
      "781/781 [==============================] - 32s 41ms/step - loss: 0.6979 - accuracy: 0.7585 - val_loss: 0.6168 - val_accuracy: 0.7885\n",
      "Epoch 83/100\n",
      "781/781 [==============================] - 45s 58ms/step - loss: 0.6972 - accuracy: 0.7598 - val_loss: 0.6058 - val_accuracy: 0.7929\n",
      "Epoch 84/100\n",
      "781/781 [==============================] - 32s 41ms/step - loss: 0.6966 - accuracy: 0.7598 - val_loss: 0.6333 - val_accuracy: 0.7853\n",
      "Epoch 85/100\n",
      "781/781 [==============================] - 32s 41ms/step - loss: 0.6896 - accuracy: 0.7614 - val_loss: 0.6429 - val_accuracy: 0.7831\n",
      "Epoch 86/100\n",
      "781/781 [==============================] - 32s 42ms/step - loss: 0.6895 - accuracy: 0.7622 - val_loss: 0.5914 - val_accuracy: 0.7951\n",
      "Epoch 87/100\n",
      "781/781 [==============================] - 45s 57ms/step - loss: 0.6793 - accuracy: 0.7653 - val_loss: 0.6196 - val_accuracy: 0.7887\n",
      "Epoch 88/100\n",
      "781/781 [==============================] - 32s 41ms/step - loss: 0.6802 - accuracy: 0.7660 - val_loss: 0.6002 - val_accuracy: 0.7952\n",
      "Epoch 89/100\n",
      "781/781 [==============================] - 36s 46ms/step - loss: 0.6774 - accuracy: 0.7653 - val_loss: 0.5956 - val_accuracy: 0.7958\n",
      "Epoch 90/100\n",
      "781/781 [==============================] - 36s 46ms/step - loss: 0.6745 - accuracy: 0.7689 - val_loss: 0.6081 - val_accuracy: 0.7925\n",
      "Epoch 91/100\n",
      "781/781 [==============================] - 32s 41ms/step - loss: 0.6709 - accuracy: 0.7693 - val_loss: 0.5631 - val_accuracy: 0.8070\n",
      "Epoch 92/100\n",
      "781/781 [==============================] - 32s 41ms/step - loss: 0.6662 - accuracy: 0.7702 - val_loss: 0.5693 - val_accuracy: 0.8043\n",
      "Epoch 93/100\n",
      "781/781 [==============================] - 37s 48ms/step - loss: 0.6672 - accuracy: 0.7699 - val_loss: 0.6037 - val_accuracy: 0.7957\n",
      "Epoch 94/100\n",
      "781/781 [==============================] - 41s 52ms/step - loss: 0.6600 - accuracy: 0.7740 - val_loss: 0.6074 - val_accuracy: 0.7896\n",
      "Epoch 95/100\n",
      "781/781 [==============================] - 32s 40ms/step - loss: 0.6586 - accuracy: 0.7720 - val_loss: 0.6343 - val_accuracy: 0.7869\n",
      "Epoch 96/100\n",
      "781/781 [==============================] - 32s 41ms/step - loss: 0.6561 - accuracy: 0.7738 - val_loss: 0.5763 - val_accuracy: 0.8051\n",
      "Epoch 97/100\n",
      "781/781 [==============================] - 32s 41ms/step - loss: 0.6521 - accuracy: 0.7776 - val_loss: 0.5979 - val_accuracy: 0.7967\n",
      "Epoch 98/100\n",
      "781/781 [==============================] - 32s 41ms/step - loss: 0.6533 - accuracy: 0.7767 - val_loss: 0.6128 - val_accuracy: 0.7918\n",
      "Epoch 99/100\n",
      "781/781 [==============================] - 32s 41ms/step - loss: 0.6503 - accuracy: 0.7775 - val_loss: 0.6099 - val_accuracy: 0.7923\n",
      "Epoch 100/100\n",
      "781/781 [==============================] - 47s 60ms/step - loss: 0.6440 - accuracy: 0.7814 - val_loss: 0.5607 - val_accuracy: 0.8072\n",
      "313/313 [==============================] - 1s 4ms/step - loss: 0.5607 - accuracy: 0.8072\n",
      "> 80.720\n"
     ]
    }
   ],
   "source": [
    "run_test_harness()"
   ]
  }
 ],
 "metadata": {
  "kernelspec": {
   "display_name": "Python 3",
   "language": "python",
   "name": "python3"
  },
  "language_info": {
   "codemirror_mode": {
    "name": "ipython",
    "version": 3
   },
   "file_extension": ".py",
   "mimetype": "text/x-python",
   "name": "python",
   "nbconvert_exporter": "python",
   "pygments_lexer": "ipython3",
   "version": "3.7.12"
  },
  "papermill": {
   "default_parameters": {},
   "duration": 4005.726874,
   "end_time": "2021-12-15T13:15:59.664346",
   "environment_variables": {},
   "exception": null,
   "input_path": "__notebook__.ipynb",
   "output_path": "__notebook__.ipynb",
   "parameters": {},
   "start_time": "2021-12-15T12:09:13.937472",
   "version": "2.3.3"
  }
 },
 "nbformat": 4,
 "nbformat_minor": 5
}
